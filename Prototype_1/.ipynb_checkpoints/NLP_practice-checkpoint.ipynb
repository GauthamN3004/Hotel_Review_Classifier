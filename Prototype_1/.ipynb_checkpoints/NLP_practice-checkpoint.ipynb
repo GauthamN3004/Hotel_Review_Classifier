{
 "cells": [
  {
   "cell_type": "code",
   "execution_count": 1,
   "metadata": {},
   "outputs": [],
   "source": [
    "import nltk\n",
    "from nltk.tokenize import sent_tokenize,word_tokenize"
   ]
  },
  {
   "cell_type": "markdown",
   "metadata": {},
   "source": [
    "## TOKENIZE"
   ]
  },
  {
   "cell_type": "code",
   "execution_count": 2,
   "metadata": {},
   "outputs": [
    {
     "data": {
      "text/plain": [
       "['Hello Mr. Smith, how are you doing today?', 'I am doing great!']"
      ]
     },
     "execution_count": 2,
     "metadata": {},
     "output_type": "execute_result"
    }
   ],
   "source": [
    "#tokenizing\n",
    "#word tokenizers and sentence tokenizers\n",
    "sentence = \"Hello Mr. Smith, how are you doing today? I am doing great!\"\n",
    "sent_tokenize(sentence)"
   ]
  },
  {
   "cell_type": "code",
   "execution_count": 3,
   "metadata": {},
   "outputs": [
    {
     "name": "stdout",
     "output_type": "stream",
     "text": [
      "Hello\n",
      "Mr.\n",
      "Smith\n",
      ",\n",
      "how\n",
      "are\n",
      "you\n",
      "doing\n",
      "today\n",
      "?\n",
      "I\n",
      "am\n",
      "doing\n",
      "great\n",
      "!\n"
     ]
    }
   ],
   "source": [
    "for i in word_tokenize(sentence):\n",
    "    print(i)"
   ]
  },
  {
   "cell_type": "markdown",
   "metadata": {},
   "source": [
    "## STOPWORDS"
   ]
  },
  {
   "cell_type": "code",
   "execution_count": 4,
   "metadata": {},
   "outputs": [],
   "source": [
    "from nltk.corpus import stopwords"
   ]
  },
  {
   "cell_type": "code",
   "execution_count": 5,
   "metadata": {},
   "outputs": [
    {
     "name": "stdout",
     "output_type": "stream",
     "text": [
      "['i', 'me', 'my', 'myself', 'we', 'our', 'ours', 'ourselves', 'you', \"you're\", \"you've\", \"you'll\", \"you'd\", 'your', 'yours', 'yourself', 'yourselves', 'he', 'him', 'his', 'himself', 'she', \"she's\", 'her', 'hers', 'herself', 'it', \"it's\", 'its', 'itself', 'they', 'them', 'their', 'theirs', 'themselves', 'what', 'which', 'who', 'whom', 'this', 'that', \"that'll\", 'these', 'those', 'am', 'is', 'are', 'was', 'were', 'be', 'been', 'being', 'have', 'has', 'had', 'having', 'do', 'does', 'did', 'doing', 'a', 'an', 'the', 'and', 'but', 'if', 'or', 'because', 'as', 'until', 'while', 'of', 'at', 'by', 'for', 'with', 'about', 'against', 'between', 'into', 'through', 'during', 'before', 'after', 'above', 'below', 'to', 'from', 'up', 'down', 'in', 'out', 'on', 'off', 'over', 'under', 'again', 'further', 'then', 'once', 'here', 'there', 'when', 'where', 'why', 'how', 'all', 'any', 'both', 'each', 'few', 'more', 'most', 'other', 'some', 'such', 'no', 'nor', 'not', 'only', 'own', 'same', 'so', 'than', 'too', 'very', 's', 't', 'can', 'will', 'just', 'don', \"don't\", 'should', \"should've\", 'now', 'd', 'll', 'm', 'o', 're', 've', 'y', 'ain', 'aren', \"aren't\", 'couldn', \"couldn't\", 'didn', \"didn't\", 'doesn', \"doesn't\", 'hadn', \"hadn't\", 'hasn', \"hasn't\", 'haven', \"haven't\", 'isn', \"isn't\", 'ma', 'mightn', \"mightn't\", 'mustn', \"mustn't\", 'needn', \"needn't\", 'shan', \"shan't\", 'shouldn', \"shouldn't\", 'wasn', \"wasn't\", 'weren', \"weren't\", 'won', \"won't\", 'wouldn', \"wouldn't\"]\n"
     ]
    }
   ],
   "source": [
    "stop_words = stopwords.words(\"english\")\n",
    "print(stop_words)"
   ]
  },
  {
   "cell_type": "code",
   "execution_count": 10,
   "metadata": {},
   "outputs": [
    {
     "data": {
      "text/plain": [
       "['Hello', 'Mr.', 'Smith', ',', 'today', '?', 'I', 'great', '!']"
      ]
     },
     "execution_count": 10,
     "metadata": {},
     "output_type": "execute_result"
    }
   ],
   "source": [
    "cleaned = [word for word in word_tokenize(sentence) if word not in stop_words]\n",
    "cleaned"
   ]
  },
  {
   "cell_type": "markdown",
   "metadata": {},
   "source": [
    "## STEMMING"
   ]
  },
  {
   "cell_type": "code",
   "execution_count": 11,
   "metadata": {},
   "outputs": [],
   "source": [
    "from nltk.stem import PorterStemmer"
   ]
  },
  {
   "cell_type": "code",
   "execution_count": 15,
   "metadata": {},
   "outputs": [
    {
     "data": {
      "text/plain": [
       "['Hi',\n",
       " 'there',\n",
       " '!',\n",
       " 'thi',\n",
       " 'is',\n",
       " 'gautham',\n",
       " 'practic',\n",
       " 'python',\n",
       " 'on',\n",
       " 'the',\n",
       " 'jupyt',\n",
       " 'notebook']"
      ]
     },
     "execution_count": 15,
     "metadata": {},
     "output_type": "execute_result"
    }
   ],
   "source": [
    "ps = PorterStemmer()\n",
    "example = \"Hi there! This is Gautham practicing python on the jupyter notebook\"\n",
    "words = word_tokenize(example)\n",
    "stemmed_words = [ps.stem(word) for word in words]\n",
    "stemmed_words"
   ]
  },
  {
   "cell_type": "markdown",
   "metadata": {},
   "source": [
    "## LEMMATIZING"
   ]
  },
  {
   "cell_type": "code",
   "execution_count": 17,
   "metadata": {},
   "outputs": [],
   "source": [
    "from nltk.stem import WordNetLemmatizer"
   ]
  },
  {
   "cell_type": "code",
   "execution_count": 18,
   "metadata": {},
   "outputs": [],
   "source": [
    "l = WordNetLemmatizer()"
   ]
  },
  {
   "cell_type": "code",
   "execution_count": 23,
   "metadata": {},
   "outputs": [
    {
     "name": "stdout",
     "output_type": "stream",
     "text": [
      "run\n",
      "cactus\n",
      "octopus\n",
      "good\n",
      "men\n",
      "woman\n",
      "donkey\n"
     ]
    }
   ],
   "source": [
    "print(l.lemmatize(\"runs\"))\n",
    "print(l.lemmatize(\"cacti\"))\n",
    "print(l.lemmatize(\"octopi\"))\n",
    "print(l.lemmatize(\"better\",pos='a'))\n",
    "print(l.lemmatize(\"men\"))\n",
    "print(l.lemmatize(\"women\"))\n",
    "print(l.lemmatize(\"donkeys\"))"
   ]
  },
  {
   "cell_type": "markdown",
   "metadata": {},
   "source": [
    "## OTHERS"
   ]
  },
  {
   "cell_type": "code",
   "execution_count": 33,
   "metadata": {},
   "outputs": [],
   "source": [
    "from nltk.corpus import movie_reviews\n",
    "import random"
   ]
  },
  {
   "cell_type": "code",
   "execution_count": 28,
   "metadata": {},
   "outputs": [],
   "source": [
    "docs = []\n",
    "for cat in movie_reviews.categories():\n",
    "    for f_id in movie_reviews.fileids(cat):\n",
    "        docs.append((list(movie_reviews.words(f_id)),cat))"
   ]
  },
  {
   "cell_type": "code",
   "execution_count": 34,
   "metadata": {},
   "outputs": [],
   "source": [
    "random.shuffle(docs)"
   ]
  },
  {
   "cell_type": "code",
   "execution_count": 37,
   "metadata": {},
   "outputs": [],
   "source": [
    "all_words = []\n",
    "for w in movie_reviews.words():\n",
    "    all_words.append(w.lower())"
   ]
  },
  {
   "cell_type": "code",
   "execution_count": 38,
   "metadata": {},
   "outputs": [
    {
     "data": {
      "text/plain": [
       "[(',', 77717),\n",
       " ('the', 76529),\n",
       " ('.', 65876),\n",
       " ('a', 38106),\n",
       " ('and', 35576),\n",
       " ('of', 34123),\n",
       " ('to', 31937),\n",
       " (\"'\", 30585),\n",
       " ('is', 25195),\n",
       " ('in', 21822),\n",
       " ('s', 18513),\n",
       " ('\"', 17612),\n",
       " ('it', 16107),\n",
       " ('that', 15924),\n",
       " ('-', 15595)]"
      ]
     },
     "execution_count": 38,
     "metadata": {},
     "output_type": "execute_result"
    }
   ],
   "source": [
    "all_words = nltk.FreqDist(all_words)\n",
    "all_words.most_common(15)"
   ]
  },
  {
   "cell_type": "code",
   "execution_count": 39,
   "metadata": {},
   "outputs": [
    {
     "data": {
      "text/plain": [
       "253"
      ]
     },
     "execution_count": 39,
     "metadata": {},
     "output_type": "execute_result"
    }
   ],
   "source": [
    "all_words[\"stupid\"]"
   ]
  },
  {
   "cell_type": "code",
   "execution_count": 42,
   "metadata": {},
   "outputs": [
    {
     "data": {
      "text/plain": [
       "[('G', 'VB'),\n",
       " ('a', 'DT'),\n",
       " ('u', 'JJ'),\n",
       " ('t', 'NN'),\n",
       " ('h', 'VBD'),\n",
       " ('a', 'DT'),\n",
       " ('m', 'NN'),\n",
       " (' ', 'NN'),\n",
       " ('i', 'NN'),\n",
       " ('s', 'VBP'),\n",
       " (' ', 'PDT'),\n",
       " ('a', 'DT'),\n",
       " (' ', 'JJ'),\n",
       " ('v', 'NN'),\n",
       " ('e', 'NN'),\n",
       " ('r', 'NN'),\n",
       " ('y', 'NN'),\n",
       " (' ', 'NNP'),\n",
       " ('g', 'NN'),\n",
       " ('o', 'NN'),\n",
       " ('o', 'NN'),\n",
       " ('d', 'NN'),\n",
       " (' ', 'NN'),\n",
       " ('b', 'NN'),\n",
       " ('o', 'NN'),\n",
       " ('y', 'NN'),\n",
       " ('.', '.'),\n",
       " (' ', 'CC'),\n",
       " ('H', 'NNP'),\n",
       " ('e', 'VBP'),\n",
       " (' ', 'NNP'),\n",
       " ('c', 'VBP'),\n",
       " ('a', 'DT'),\n",
       " ('n', 'JJ'),\n",
       " (' ', 'NN'),\n",
       " ('s', 'NN'),\n",
       " ('t', 'NN'),\n",
       " ('u', 'JJ'),\n",
       " ('d', 'NN'),\n",
       " ('y', 'NN'),\n",
       " (' ', 'VBZ'),\n",
       " ('a', 'DT'),\n",
       " ('n', 'JJ'),\n",
       " ('d', 'NN'),\n",
       " (' ', 'NNP'),\n",
       " ('r', 'NN'),\n",
       " ('u', 'JJ'),\n",
       " ('n', 'NN'),\n",
       " ('.', '.')]"
      ]
     },
     "execution_count": 42,
     "metadata": {},
     "output_type": "execute_result"
    }
   ],
   "source": [
    "sentence = \"Gautham is a very good boy. He can study and run.\"\n",
    "nltk.pos_tag(sentence)"
   ]
  },
  {
   "cell_type": "code",
   "execution_count": 47,
   "metadata": {},
   "outputs": [],
   "source": [
    "from nltk.tokenize import PunktSentenceTokenizer"
   ]
  },
  {
   "cell_type": "code",
   "execution_count": 48,
   "metadata": {},
   "outputs": [],
   "source": [
    "sent_token = PunktSentenceTokenizer(sentence)"
   ]
  },
  {
   "cell_type": "code",
   "execution_count": 49,
   "metadata": {},
   "outputs": [
    {
     "data": {
      "text/plain": [
       "<nltk.tokenize.punkt.PunktSentenceTokenizer at 0x2091ff37400>"
      ]
     },
     "execution_count": 49,
     "metadata": {},
     "output_type": "execute_result"
    }
   ],
   "source": [
    "sent_token"
   ]
  },
  {
   "cell_type": "code",
   "execution_count": 50,
   "metadata": {},
   "outputs": [],
   "source": [
    "sentence2 = \"Gautham is 21 years old. He lives in Bangalore, the capital of the state of Karntaka\""
   ]
  },
  {
   "cell_type": "code",
   "execution_count": 51,
   "metadata": {},
   "outputs": [],
   "source": [
    "tokenized = sent_token.tokenize(sentence2)"
   ]
  },
  {
   "cell_type": "code",
   "execution_count": 52,
   "metadata": {},
   "outputs": [
    {
     "data": {
      "text/plain": [
       "['Gautham is 21 years old.',\n",
       " 'He lives in Bangalore, the capital of the state of Karntaka']"
      ]
     },
     "execution_count": 52,
     "metadata": {},
     "output_type": "execute_result"
    }
   ],
   "source": [
    "tokenized"
   ]
  },
  {
   "cell_type": "code",
   "execution_count": 54,
   "metadata": {},
   "outputs": [
    {
     "data": {
      "text/plain": [
       "['Gautham is 21 years old.',\n",
       " 'He lives in Bangalore, the capital of the state of Karntaka']"
      ]
     },
     "execution_count": 54,
     "metadata": {},
     "output_type": "execute_result"
    }
   ],
   "source": [
    "sent_tokenize(sentence2)"
   ]
  },
  {
   "cell_type": "code",
   "execution_count": 55,
   "metadata": {},
   "outputs": [
    {
     "data": {
      "text/plain": [
       "str"
      ]
     },
     "execution_count": 55,
     "metadata": {},
     "output_type": "execute_result"
    }
   ],
   "source": [
    "type(sent_tokenize(sentence2)[0])"
   ]
  },
  {
   "cell_type": "code",
   "execution_count": 57,
   "metadata": {},
   "outputs": [
    {
     "data": {
      "text/plain": [
       "str"
      ]
     },
     "execution_count": 57,
     "metadata": {},
     "output_type": "execute_result"
    }
   ],
   "source": [
    "type(tokenized[0])"
   ]
  },
  {
   "cell_type": "code",
   "execution_count": 96,
   "metadata": {},
   "outputs": [
    {
     "data": {
      "text/plain": [
       "[('Gautham', 'NNP'),\n",
       " ('is', 'VBZ'),\n",
       " ('not', 'RB'),\n",
       " ('a', 'DT'),\n",
       " ('very', 'RB'),\n",
       " ('good', 'JJ'),\n",
       " ('boy', 'NN'),\n",
       " ('.', '.'),\n",
       " ('He', 'PRP'),\n",
       " ('does', 'VBZ'),\n",
       " ('not', 'RB'),\n",
       " ('like', 'JJ'),\n",
       " ('sports', 'NNS'),\n",
       " ('.', '.')]"
      ]
     },
     "execution_count": 96,
     "metadata": {},
     "output_type": "execute_result"
    }
   ],
   "source": [
    "words = nltk.word_tokenize(sentence)\n",
    "nltk.pos_tag(words)"
   ]
  },
  {
   "cell_type": "code",
   "execution_count": 109,
   "metadata": {},
   "outputs": [],
   "source": [
    "sentence = \"Gautham is not a very good boy. He does not like sports.\"\n",
    "words = nltk.word_tokenize(sentence)\n",
    "tags = nltk.pos_tag(words)"
   ]
  },
  {
   "cell_type": "code",
   "execution_count": 110,
   "metadata": {},
   "outputs": [
    {
     "data": {
      "text/plain": [
       "[('Gautham', 'NNP'),\n",
       " ('is', 'VBZ'),\n",
       " ('not', 'RB'),\n",
       " ('a', 'DT'),\n",
       " ('very', 'RB'),\n",
       " ('good', 'JJ'),\n",
       " ('boy', 'NN'),\n",
       " ('.', '.'),\n",
       " ('He', 'PRP'),\n",
       " ('does', 'VBZ'),\n",
       " ('not', 'RB'),\n",
       " ('like', 'JJ'),\n",
       " ('sports', 'NNS'),\n",
       " ('.', '.')]"
      ]
     },
     "execution_count": 110,
     "metadata": {},
     "output_type": "execute_result"
    }
   ],
   "source": [
    "tags"
   ]
  },
  {
   "cell_type": "code",
   "execution_count": 111,
   "metadata": {},
   "outputs": [],
   "source": [
    "from nltk.corpus import wordnet"
   ]
  },
  {
   "cell_type": "code",
   "execution_count": 112,
   "metadata": {},
   "outputs": [],
   "source": [
    "for i in range(len(tags)):\n",
    "    if(tags[i][0]==\"not\"):\n",
    "        f2=0\n",
    "        for j in range(i+1,len(tags)):\n",
    "            if(tags[j][1] == 'JJ'):\n",
    "                f1=0\n",
    "                for syn in wordnet.synsets(tags[j][0]): \n",
    "                    for l in syn.lemmas(): \n",
    "                        if l.antonyms(): \n",
    "                            words[j] = l.antonyms()[0].name()\n",
    "                            f1=1\n",
    "                            break\n",
    "                    if(f1==1):\n",
    "                        f2=1\n",
    "                        break\n",
    "            if(f2 == 1):\n",
    "                del(words[words.index('not')])\n",
    "                break\n",
    "                        "
   ]
  },
  {
   "cell_type": "code",
   "execution_count": 113,
   "metadata": {},
   "outputs": [
    {
     "data": {
      "text/plain": [
       "['Gautham',\n",
       " 'is',\n",
       " 'a',\n",
       " 'very',\n",
       " 'evil',\n",
       " 'boy',\n",
       " '.',\n",
       " 'He',\n",
       " 'does',\n",
       " 'like',\n",
       " 'dislike',\n",
       " '.']"
      ]
     },
     "execution_count": 113,
     "metadata": {},
     "output_type": "execute_result"
    }
   ],
   "source": [
    "words"
   ]
  },
  {
   "cell_type": "code",
   "execution_count": 103,
   "metadata": {},
   "outputs": [
    {
     "data": {
      "text/plain": [
       "0"
      ]
     },
     "execution_count": 103,
     "metadata": {},
     "output_type": "execute_result"
    }
   ],
   "source": [
    "a=['a','a']\n",
    "a.index('a')"
   ]
  },
  {
   "cell_type": "code",
   "execution_count": null,
   "metadata": {},
   "outputs": [],
   "source": []
  }
 ],
 "metadata": {
  "kernelspec": {
   "display_name": "Python 3",
   "language": "python",
   "name": "python3"
  },
  "language_info": {
   "codemirror_mode": {
    "name": "ipython",
    "version": 3
   },
   "file_extension": ".py",
   "mimetype": "text/x-python",
   "name": "python",
   "nbconvert_exporter": "python",
   "pygments_lexer": "ipython3",
   "version": "3.6.2"
  }
 },
 "nbformat": 4,
 "nbformat_minor": 2
}
